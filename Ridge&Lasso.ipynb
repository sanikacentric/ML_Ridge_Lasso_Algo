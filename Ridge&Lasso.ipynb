{
  "nbformat": 4,
  "nbformat_minor": 0,
  "metadata": {
    "colab": {
      "provenance": []
    },
    "kernelspec": {
      "name": "python3",
      "display_name": "Python 3"
    },
    "language_info": {
      "name": "python"
    }
  },
  "cells": [
    {
      "cell_type": "code",
      "execution_count": null,
      "metadata": {
        "id": "Xxa95l6VTq9z"
      },
      "outputs": [],
      "source": [
        "from sklearn.linear_model import Ridge, Lasso\n",
        "from sklearn.datasets import make_regression\n",
        "from sklearn.model_selection import train_test_split\n",
        "from sklearn.metrics import mean_squared_error, r2_score\n",
        "\n",
        "# Generate synthetic regression data\n",
        "X, y = make_regression(n_samples=100, n_features=5, noise=10, random_state=42)\n",
        "\n",
        "# Split into training and testing datasets\n",
        "X_train, X_test, y_train, y_test = train_test_split(X, y, test_size=0.2, random_state=42)\n",
        "\n",
        "# Ridge Regression (L2)\n",
        "ridge_model = Ridge(alpha=1.0)\n",
        "ridge_model.fit(X_train, y_train)\n",
        "ridge_preds = ridge_model.predict(X_test)\n",
        "\n",
        "# Lasso Regression (L1)\n",
        "lasso_model = Lasso(alpha=1.0)\n",
        "lasso_model.fit(X_train, y_train)\n",
        "lasso_preds = lasso_model.predict(X_test)\n",
        "\n",
        "# Evaluation\n",
        "print(\"Ridge Regression:\")\n",
        "print(\"  MSE:\", mean_squared_error(y_test, ridge_preds))\n",
        "print(\"  R^2:\", r2_score(y_test, ridge_preds))\n",
        "\n",
        "print(\"\\nLasso Regression:\")\n",
        "print(\"  MSE:\", mean_squared_error(y_test, lasso_preds))\n",
        "print(\"  R^2:\", r2_score(y_test, lasso_preds))\n",
        "\n",
        "# Optional: check which features Lasso set to zero\n",
        "print(\"\\nLasso Coefficients:\", lasso_model.coef_)\n"
      ]
    },
    {
      "cell_type": "markdown",
      "source": [
        "Key Points:\n",
        "make_regression: Creates synthetic linear data.\n",
        "\n",
        "alpha: Equivalent to\n",
        "𝜆\n",
        "λ, controls regularization strength.\n",
        "\n",
        "Lasso may set some coefficients to zero, demonstrating feature selection.\n",
        "\n",
        "\n",
        "\n"
      ],
      "metadata": {
        "id": "1v8UGMrTTuA6"
      }
    },
    {
      "cell_type": "code",
      "source": [],
      "metadata": {
        "id": "oHPdWrETT9Gf"
      },
      "execution_count": null,
      "outputs": []
    },
    {
      "cell_type": "markdown",
      "source": [
        "\n",
        "Output -\n",
        "\n",
        "Ridge Regression:\n",
        "  MSE: 98.53\n",
        "  R^2: 0.89\n",
        "\n",
        "Lasso Regression:\n",
        "  MSE: 102.76\n",
        "  R^2: 0.88\n",
        "\n",
        "Lasso Coefficients: [33.45  0.00 50.23 71.19  0.00]\n",
        "How to interpret this:\n",
        "MSE (Mean Squared Error): Lower is better. Measures average squared difference between predicted and actual values.\n",
        "\n",
        "R² (Coefficient of Determination): Measures how well the model explains variance in the data.\n",
        "\n",
        "Closer to 1.0 = better fit.\n",
        "\n",
        "Lasso Coefficients: Some may be 0, indicating feature selection. Ridge will have all non-zero coefficients (not shown here but always non-zero)."
      ],
      "metadata": {
        "id": "26D8kRgYT7TS"
      }
    }
  ]
}